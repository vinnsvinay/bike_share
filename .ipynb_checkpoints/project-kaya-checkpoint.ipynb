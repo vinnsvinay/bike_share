{
 "cells": [
  {
   "cell_type": "code",
   "execution_count": 2,
   "metadata": {},
   "outputs": [
    {
     "data": {
      "text/html": [
       "\n",
       "        <div>\n",
       "            <p><b>SparkContext</b></p>\n",
       "\n",
       "            <p><a href=\"http://10.1.151.33:4040\">Spark UI</a></p>\n",
       "\n",
       "            <dl>\n",
       "              <dt>Version</dt>\n",
       "                <dd><code>v2.2.0</code></dd>\n",
       "              <dt>Master</dt>\n",
       "                <dd><code>local[*]</code></dd>\n",
       "              <dt>AppName</dt>\n",
       "                <dd><code>PySparkShell</code></dd>\n",
       "            </dl>\n",
       "        </div>\n",
       "        "
      ],
      "text/plain": [
       "<SparkContext master=local[*] appName=PySparkShell>"
      ]
     },
     "execution_count": 2,
     "metadata": {},
     "output_type": "execute_result"
    }
   ],
   "source": [
    "sc"
   ]
  },
  {
   "cell_type": "code",
   "execution_count": 3,
   "metadata": {
    "collapsed": true
   },
   "outputs": [],
   "source": [
    "sqlContext = SQLContext(sc)"
   ]
  },
  {
   "cell_type": "code",
   "execution_count": 4,
   "metadata": {
    "collapsed": true
   },
   "outputs": [],
   "source": [
    "from pyspark.sql import Row\n",
    "from pyspark.sql.types import *\n",
    "from pyspark.sql import SQLContext\n",
    "from pyspark.ml.feature import VectorAssembler\n",
    "from pyspark.ml.classification import DecisionTreeClassifier\n",
    "from pyspark.ml.evaluation import MulticlassClassificationEvaluator\n",
    "from pyspark.sql.functions import *\n",
    "from datetime import datetime\n",
    "from pyspark.ml.feature import StringIndexer"
   ]
  },
  {
   "cell_type": "code",
   "execution_count": 5,
   "metadata": {
    "collapsed": true,
    "scrolled": true
   },
   "outputs": [],
   "source": [
    "from mpl_toolkits.basemap import Basemap"
   ]
  },
  {
   "cell_type": "code",
   "execution_count": 6,
   "metadata": {
    "collapsed": true
   },
   "outputs": [],
   "source": [
    "trips = sc.textFile('sf-bay-area-bike-share/trip.csv').map(lambda x: x.split(','))\n",
    "trip_cols = trips.first()\n",
    "trips = trips.filter(lambda x: x[0] != 'id') #remove header\n",
    "\n",
    "status = sc.textFile('sf-bay-area-bike-share/status.csv').map(lambda x: x.split(','))\n",
    "status_cols = status.first()\n",
    "status = status.filter(lambda x: x[0] != u'station_id') #remove header\n",
    "\n",
    "station = sc.textFile('sf-bay-area-bike-share/station.csv').map(lambda x: x.split(','))\n",
    "station_cols = station.first()\n",
    "station = station.filter(lambda x: x[0] != 'id') #remove header"
   ]
  },
  {
   "cell_type": "code",
   "execution_count": 7,
   "metadata": {},
   "outputs": [
    {
     "name": "stdout",
     "output_type": "stream",
     "text": [
      "[u'4576', u'63', u'8/29/2013 14:13', u'South Van Ness at Market', u'66', u'8/29/2013 14:14', u'South Van Ness at Market', u'66', u'520', u'Subscriber', u'94127']\n",
      "[u'2', u'2', u'25', u'2013/08/29 12:06:01']\n",
      "[u'2', u'San Jose Diridon Caltrain Station', u'37.329732', u'-121.90178200000001', u'27', u'San Jose', u'8/6/2013']\n"
     ]
    }
   ],
   "source": [
    "print trips.first()\n",
    "print status.first()\n",
    "print station.first()"
   ]
  },
  {
   "cell_type": "code",
   "execution_count": 64,
   "metadata": {
    "collapsed": true
   },
   "outputs": [],
   "source": [
    "def toIntSafe(inval):\n",
    "    try:\n",
    "        return int(inval)\n",
    "    except ValueError:\n",
    "        return None\n",
    "    \n",
    "def toFloatSafe(inval):\n",
    "    try:\n",
    "        return float(inval)\n",
    "    except ValueError:\n",
    "        return None\n",
    "\n",
    "def trip_toTimeStampSafe(data):\n",
    "    try:\n",
    "        return datetime.strptime(data, \"%m/%d/%Y %H:%M\") \n",
    "    except ValueError:\n",
    "        return None\n",
    "    \n",
    "def status_toTimeStampSafe(data):\n",
    "    try:\n",
    "        return datetime.strptime(data, \"%Y/%m/%d %H:%M:%S\") \n",
    "    except ValueError:\n",
    "        return None   \n",
    "\n",
    "def station_toTimeStampSafe(data):\n",
    "    try:\n",
    "        return datetime.strptime(data, \"%m/%d/%Y\") \n",
    "    except ValueError:\n",
    "        return None \n",
    "\n",
    "def trip_toRow(x):\n",
    "    return Row(toIntSafe(x[0]),toIntSafe(x[1]),trip_toTimeStampSafe(x[2]),x[3], \n",
    "        toIntSafe(x[4]),trip_toTimeStampSafe(x[5]),x[6],toIntSafe(x[7]),\n",
    "            toIntSafe(x[8]),x[9],x[10])\n",
    "\n",
    "def status_toRow(x):\n",
    "    return Row(toIntSafe(x[0]), toIntSafe(x[1]), toIntSafe(x[2]), \n",
    "               status_toTimeStampSafe(x[3]), float(x[2])/(float(x[1]) + float(x[2])))\n",
    "                         \n",
    "def station_toRow(x):\n",
    "    return Row(toIntSafe(x[0]), x[1], toFloatSafe(x[2]), toFloatSafe(x[3]), \n",
    "               toIntSafe(x[4]), x[5], station_toTimeStampSafe(x[6]))                 "
   ]
  },
  {
   "cell_type": "code",
   "execution_count": 83,
   "metadata": {
    "collapsed": true
   },
   "outputs": [],
   "source": [
    "tripSchema = StructType([StructField(\"id\", IntegerType(), True), \n",
    "                         StructField(\"duration\", IntegerType(), True),\n",
    "                         StructField(\"start_date\", TimestampType(), True), \n",
    "                         StructField(\"start_station_name\", StringType(), True),\n",
    "                         StructField(\"start_station_id\", IntegerType(), True),\n",
    "                       StructField(\"end_date\", TimestampType(), True),\n",
    "                       StructField(\"end_station_name\", StringType(), True),\n",
    "                       StructField(\"end_station_id\", IntegerType(), True),\n",
    "                       StructField(\"bike_id\", IntegerType(), True),\n",
    "                       StructField(\"subscription_type\", StringType(), True),\n",
    "                       StructField(\"zip_code\", StringType(), True)])\n",
    "trip_rowRDD = trips.map(lambda x: trip_toRow(x))\n",
    "trip_df = sqlContext.createDataFrame(trip_rowRDD, tripSchema)\n",
    "\n",
    "\n",
    "statusSchema = StructType([StructField(\"station_id\", IntegerType(), True), \n",
    "                         StructField(\"bikes_available\", IntegerType(), True),\n",
    "                         StructField(\"docks_available\", IntegerType(), True), \n",
    "                         StructField(\"time\", TimestampType(), True),\n",
    "                          StructField(\"bikes_utilised_percentage\", FloatType(), True)])\n",
    "status_rowRDD = status.map(lambda x: status_toRow(x))\n",
    "status_df = sqlContext.createDataFrame(status_rowRDD, statusSchema)\n",
    "\n",
    "stationSchema = StructType([StructField(\"id\", IntegerType(), True), \n",
    "                         StructField(\"name\", StringType(), True),\n",
    "                         StructField(\"lat\", FloatType(), True), \n",
    "                         StructField(\"long\", FloatType(), True),\n",
    "                         StructField(\"dock_count\", IntegerType(), True),\n",
    "                         StructField(\"city\", StringType(), True),\n",
    "                         StructField(\"installation_date\", DateType(), True)])\n",
    "\n",
    "station_rowRDD = station.map(lambda x: station_toRow(x))\n",
    "station_df = sqlContext.createDataFrame(station_rowRDD, stationSchema)"
   ]
  },
  {
   "cell_type": "code",
   "execution_count": 84,
   "metadata": {},
   "outputs": [
    {
     "name": "stdout",
     "output_type": "stream",
     "text": [
      "+----------+---------------+---------------+-------------------+-------------------------+\n",
      "|station_id|bikes_available|docks_available|               time|bikes_utilised_percentage|\n",
      "+----------+---------------+---------------+-------------------+-------------------------+\n",
      "|         2|              2|             25|2013-08-29 12:06:01|                0.9259259|\n",
      "|         2|              2|             25|2013-08-29 12:07:01|                0.9259259|\n",
      "|         2|              2|             25|2013-08-29 12:08:01|                0.9259259|\n",
      "|         2|              2|             25|2013-08-29 12:09:01|                0.9259259|\n",
      "|         2|              2|             25|2013-08-29 12:10:01|                0.9259259|\n",
      "|         2|              2|             25|2013-08-29 12:11:01|                0.9259259|\n",
      "|         2|              2|             25|2013-08-29 12:12:01|                0.9259259|\n",
      "|         2|              2|             25|2013-08-29 12:13:01|                0.9259259|\n",
      "|         2|              2|             25|2013-08-29 12:15:01|                0.9259259|\n",
      "|         2|              2|             25|2013-08-29 12:16:02|                0.9259259|\n",
      "+----------+---------------+---------------+-------------------+-------------------------+\n",
      "only showing top 10 rows\n",
      "\n"
     ]
    }
   ],
   "source": [
    "status_df.show(10)"
   ]
  },
  {
   "cell_type": "markdown",
   "metadata": {},
   "source": [
    "Morning: [6-10)\n",
    "Noon: [10-2)\n",
    "Evening: [2-6)\n",
    "Night: [6-10)"
   ]
  },
  {
   "cell_type": "code",
   "execution_count": 85,
   "metadata": {
    "collapsed": true
   },
   "outputs": [],
   "source": [
    "def time_of_day(x):\n",
    "    hour = x.hour\n",
    "    if hour >= 6 and hour < 10:\n",
    "        return 0\n",
    "    if hour >= 10 and hour < 14:\n",
    "        return 1\n",
    "    if hour >= 14 and hour < 18:\n",
    "        return 2\n",
    "    if hour >= 18 and hour < 22:\n",
    "        return 3\n",
    "    \n",
    "timefunction = udf(lambda x: time_of_day(x))\n",
    "bike_status_period = status_df.select('*', timefunction('time').alias('time_of_day')).cache()"
   ]
  },
  {
   "cell_type": "code",
   "execution_count": 86,
   "metadata": {},
   "outputs": [
    {
     "name": "stdout",
     "output_type": "stream",
     "text": [
      "+----------+---------------+---------------+-------------------+-------------------------+-----------+\n",
      "|station_id|bikes_available|docks_available|               time|bikes_utilised_percentage|time_of_day|\n",
      "+----------+---------------+---------------+-------------------+-------------------------+-----------+\n",
      "|         2|              2|             25|2013-08-29 12:06:01|                0.9259259|          1|\n",
      "|         2|              2|             25|2013-08-29 12:07:01|                0.9259259|          1|\n",
      "|         2|              2|             25|2013-08-29 12:08:01|                0.9259259|          1|\n",
      "|         2|              2|             25|2013-08-29 12:09:01|                0.9259259|          1|\n",
      "|         2|              2|             25|2013-08-29 12:10:01|                0.9259259|          1|\n",
      "+----------+---------------+---------------+-------------------+-------------------------+-----------+\n",
      "only showing top 5 rows\n",
      "\n"
     ]
    }
   ],
   "source": [
    "bike_status_period.show(5)"
   ]
  },
  {
   "cell_type": "code",
   "execution_count": null,
   "metadata": {
    "collapsed": true
   },
   "outputs": [],
   "source": [
    "daily_avg = bike_status_period.select('station_id', 'bikes_utilised_percentage','time_of_day').\\\n",
    "groupBy('station_id', 'time_of_day').mean('bikes_utilised_percentage').cache()"
   ]
  },
  {
   "cell_type": "code",
   "execution_count": null,
   "metadata": {
    "collapsed": true
   },
   "outputs": [],
   "source": [
    "daily_avg.show(5)"
   ]
  },
  {
   "cell_type": "code",
   "execution_count": null,
   "metadata": {
    "collapsed": true
   },
   "outputs": [],
   "source": [
    "station_filtered = station_df.select('id', 'lat', 'long')"
   ]
  },
  {
   "cell_type": "code",
   "execution_count": null,
   "metadata": {
    "collapsed": true
   },
   "outputs": [],
   "source": [
    "daily_avg.join(station_filtered, 'id', 'outer').show(10)"
   ]
  },
  {
   "cell_type": "code",
   "execution_count": null,
   "metadata": {
    "collapsed": true
   },
   "outputs": [],
   "source": []
  },
  {
   "cell_type": "code",
   "execution_count": 79,
   "metadata": {},
   "outputs": [
    {
     "name": "stdout",
     "output_type": "stream",
     "text": [
      "+---+--------------------+---------+-----------+----------+--------+-----------------+\n",
      "| id|                name|      lat|       long|dock_count|    city|installation_date|\n",
      "+---+--------------------+---------+-----------+----------+--------+-----------------+\n",
      "|  2|San Jose Diridon ...| 37.32973| -121.90178|        27|San Jose|       2013-08-06|\n",
      "|  3|San Jose Civic Ce...|37.330696| -121.88898|        15|San Jose|       2013-08-05|\n",
      "|  4|Santa Clara at Al...| 37.33399|-121.894905|        11|San Jose|       2013-08-06|\n",
      "|  5|    Adobe on Almaden|37.331413|  -121.8932|        19|San Jose|       2013-08-05|\n",
      "|  6|    San Pedro Square| 37.33672| -121.89407|        15|San Jose|       2013-08-07|\n",
      "+---+--------------------+---------+-----------+----------+--------+-----------------+\n",
      "only showing top 5 rows\n",
      "\n"
     ]
    }
   ],
   "source": [
    "station_df.show(5)"
   ]
  },
  {
   "cell_type": "code",
   "execution_count": null,
   "metadata": {
    "collapsed": true
   },
   "outputs": [],
   "source": [
    "bbox = (-122.517901,37.638179,-122.258863,37.836884)\n",
    "\n",
    "plotHeatmap(jobs15, plot_type='scatter', fig_kwargs={'figsize':[20,20]},\n",
    "            bmap_kwargs={'epsg':'26943','resolution':'h'},\n",
    "            plot_kwargs={'cmap':'gist_heat_r','s':4,'edgecolor':'none'})"
   ]
  },
  {
   "cell_type": "code",
   "execution_count": null,
   "metadata": {
    "collapsed": true
   },
   "outputs": [],
   "source": []
  },
  {
   "cell_type": "code",
   "execution_count": null,
   "metadata": {
    "collapsed": true
   },
   "outputs": [],
   "source": [
    "#expects column \n",
    "def plotHeatmap(data,bbox,plot_type,fig_kwargs,bmap_kwargs,plot_kwargs):\n",
    "    fig, ax = plt.subplots(**fig_kwargs)\n",
    "    bmap = Basemap(bbox[1], bbox[0], bbox[3], bbox[2], ax=ax, **bmap_kwargs)\n",
    "    bmap.drawcoastlines()\n",
    "    bmap.drawmapboundary()\n",
    "    x, y = bmap('long', 'lat')\n",
    "    if plot_type == 'scatter':\n",
    "        plot = bmap.scatter(\n",
    "            x, y, c=data.values, **plot_kwargs)\n",
    "    elif plot_type == 'hexbin':\n",
    "        plot = bmap.hexbin(\n",
    "            x, y, C=data.values, **plot_kwargs)\n",
    "\n",
    "    bmap.colorbar(plot, **cbar_kwargs)\n",
    "    return bmap, fig, ax"
   ]
  },
  {
   "cell_type": "code",
   "execution_count": null,
   "metadata": {
    "collapsed": true
   },
   "outputs": [],
   "source": []
  },
  {
   "cell_type": "code",
   "execution_count": null,
   "metadata": {
    "collapsed": true
   },
   "outputs": [],
   "source": []
  },
  {
   "cell_type": "code",
   "execution_count": null,
   "metadata": {
    "collapsed": true
   },
   "outputs": [],
   "source": []
  },
  {
   "cell_type": "code",
   "execution_count": null,
   "metadata": {
    "collapsed": true
   },
   "outputs": [],
   "source": [
    "#Inspect hist of column freqs\n",
    "pairs = trips.map(lambda x: (x[9],1))\n",
    "pairs.reduceByKey(lambda x, y: x+y).collect()"
   ]
  },
  {
   "cell_type": "code",
   "execution_count": null,
   "metadata": {
    "collapsed": true
   },
   "outputs": [],
   "source": [
    "#Check if everything is as expected\n",
    "print trips.filter(lambda x: not x[7].isdigit()).take(5)\n",
    "print trips.filter(lambda x: not is_trip_date(x[5])).take(5)"
   ]
  }
 ],
 "metadata": {
  "kernelspec": {
   "display_name": "Python 2",
   "language": "python",
   "name": "python2"
  },
  "language_info": {
   "codemirror_mode": {
    "name": "ipython",
    "version": 2
   },
   "file_extension": ".py",
   "mimetype": "text/x-python",
   "name": "python",
   "nbconvert_exporter": "python",
   "pygments_lexer": "ipython2",
   "version": "2.7.14"
  }
 },
 "nbformat": 4,
 "nbformat_minor": 2
}
