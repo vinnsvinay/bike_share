{
 "cells": [
  {
   "cell_type": "code",
   "execution_count": 1,
   "metadata": {},
   "outputs": [
    {
     "data": {
      "text/html": [
       "\n",
       "        <div>\n",
       "            <p><b>SparkContext</b></p>\n",
       "\n",
       "            <p><a href=\"http://10.0.0.136:4040\">Spark UI</a></p>\n",
       "\n",
       "            <dl>\n",
       "              <dt>Version</dt>\n",
       "                <dd><code>v2.2.0</code></dd>\n",
       "              <dt>Master</dt>\n",
       "                <dd><code>local[*]</code></dd>\n",
       "              <dt>AppName</dt>\n",
       "                <dd><code>PySparkShell</code></dd>\n",
       "            </dl>\n",
       "        </div>\n",
       "        "
      ],
      "text/plain": [
       "<SparkContext master=local[*] appName=PySparkShell>"
      ]
     },
     "execution_count": 1,
     "metadata": {},
     "output_type": "execute_result"
    }
   ],
   "source": [
    "sc"
   ]
  },
  {
   "cell_type": "code",
   "execution_count": 80,
   "metadata": {},
   "outputs": [
    {
     "name": "stdout",
     "output_type": "stream",
     "text": [
      "+--------------------+-------+--------+---------------+--------------+-------------------+----+---------------+----------------+--------------------+-----------------+--------+\n",
      "|                 _id|bike_id|duration|       end_date|end_station_id|   end_station_name|  id|     start_date|start_station_id|  start_station_name|subscription_type|zip_code|\n",
      "+--------------------+-------+--------+---------------+--------------+-------------------+----+---------------+----------------+--------------------+-----------------+--------+\n",
      "|[5a5ea615399107bd...|    661|      70|8/29/2013 14:43|            10| San Jose City Hall|4607|8/29/2013 14:42|              10|  San Jose City Hall|       Subscriber|   95138|\n",
      "|[5a5ea615399107bd...|    319|      83|8/29/2013 12:04|            67|     Market at 10th|4299|8/29/2013 12:02|              66|South Van Ness at...|       Subscriber|   94103|\n",
      "|[5a5ea615399107bd...|    527|     103|8/29/2013 18:56|            59|Golden Gate at Polk|4927|8/29/2013 18:54|              59| Golden Gate at Polk|       Subscriber|   94109|\n",
      "|[5a5ea615399107bd...|    679|     109|8/29/2013 13:27|             5|   Adobe on Almaden|4500|8/29/2013 13:25|               4|Santa Clara at Al...|       Subscriber|   95112|\n",
      "|[5a5ea615399107bd...|    687|     111|8/29/2013 14:04|             8|San Salvador at 1st|4563|8/29/2013 14:02|               8| San Salvador at 1st|       Subscriber|   95112|\n",
      "+--------------------+-------+--------+---------------+--------------+-------------------+----+---------------+----------------+--------------------+-----------------+--------+\n",
      "only showing top 5 rows\n",
      "\n"
     ]
    }
   ],
   "source": [
    "trips = sqlContext.read.format(\"com.mongodb.spark.sql.DefaultSource\").\\\n",
    "    option(\"uri\",\"mongodb://127.0.0.1/bikeshare.trip\").load()\n",
    "\n",
    "trips.show(5)"
   ]
  },
  {
   "cell_type": "code",
   "execution_count": 81,
   "metadata": {},
   "outputs": [
    {
     "name": "stdout",
     "output_type": "stream",
     "text": [
      "+--------+--------------+---------------+----------------+-----------------+\n",
      "|duration|end_station_id|     start_date|start_station_id|subscription_type|\n",
      "+--------+--------------+---------------+----------------+-----------------+\n",
      "|      70|            10|8/29/2013 14:42|              10|       Subscriber|\n",
      "|      83|            67|8/29/2013 12:02|              66|       Subscriber|\n",
      "|     103|            59|8/29/2013 18:54|              59|       Subscriber|\n",
      "|     109|             5|8/29/2013 13:25|               4|       Subscriber|\n",
      "|     111|             8|8/29/2013 14:02|               8|       Subscriber|\n",
      "+--------+--------------+---------------+----------------+-----------------+\n",
      "only showing top 5 rows\n",
      "\n"
     ]
    }
   ],
   "source": [
    "trips = trips.drop('_id', 'bike_id', 'end_station_name', 'start_station_name', 'id', 'zip_code', 'end_date')\n",
    "trips.show(5)"
   ]
  },
  {
   "cell_type": "code",
   "execution_count": 82,
   "metadata": {},
   "outputs": [
    {
     "data": {
      "text/plain": [
       "669959"
      ]
     },
     "execution_count": 82,
     "metadata": {},
     "output_type": "execute_result"
    }
   ],
   "source": [
    "trips.cache()\n",
    "trips.count()"
   ]
  },
  {
   "cell_type": "code",
   "execution_count": 83,
   "metadata": {},
   "outputs": [
    {
     "name": "stdout",
     "output_type": "stream",
     "text": [
      "+--------+--------------+----------------+-----------------+-----------+----+\n",
      "|duration|end_station_id|start_station_id|subscription_type|day_of_week|hour|\n",
      "+--------+--------------+----------------+-----------------+-----------+----+\n",
      "|      70|            10|              10|       Subscriber|          4|  14|\n",
      "|      83|            67|              66|       Subscriber|          4|  12|\n",
      "|     103|            59|              59|       Subscriber|          4|  18|\n",
      "|     109|             5|               4|       Subscriber|          4|  13|\n",
      "|     111|             8|               8|       Subscriber|          4|  14|\n",
      "+--------+--------------+----------------+-----------------+-----------+----+\n",
      "only showing top 5 rows\n",
      "\n"
     ]
    }
   ],
   "source": [
    "from pyspark.sql.types import *\n",
    "from pyspark.sql.functions import udf\n",
    "from datetime import datetime\n",
    "\n",
    "def get_day_of_week(ts):\n",
    "    print(ts)\n",
    "    date = datetime.strptime(ts, \"%m/%d/%Y %H:%M\")\n",
    "    return date.isoweekday()\n",
    "\n",
    "get_dow = udf(lambda x: get_day_of_week(x), IntegerType())\n",
    "\n",
    "def get_hour(ts):\n",
    "    print(ts)\n",
    "    date = datetime.strptime(ts, \"%m/%d/%Y %H:%M\")\n",
    "    return date.hour\n",
    "\n",
    "get_hr = udf(lambda x: get_hour(x), IntegerType())\n",
    "\n",
    "\n",
    "trips = trips.withColumn('day_of_week', get_dow(trips['start_date']))\n",
    "trips = trips.withColumn('hour', get_hr(trips['start_date']))\n",
    "trips = trips.drop('start_date')\n",
    "trips.show(5)"
   ]
  },
  {
   "cell_type": "code",
   "execution_count": 84,
   "metadata": {},
   "outputs": [
    {
     "name": "stdout",
     "output_type": "stream",
     "text": [
      "root\n",
      " |-- duration: integer (nullable = true)\n",
      " |-- end_station_id: integer (nullable = true)\n",
      " |-- start_station_id: integer (nullable = true)\n",
      " |-- subscription_type: string (nullable = true)\n",
      " |-- day_of_week: integer (nullable = true)\n",
      " |-- hour: integer (nullable = true)\n",
      "\n"
     ]
    }
   ],
   "source": [
    "trips.printSchema()"
   ]
  },
  {
   "cell_type": "code",
   "execution_count": 85,
   "metadata": {
    "collapsed": true
   },
   "outputs": [],
   "source": [
    "from pyspark.ml.regression import RandomForestRegressor\n",
    "from pyspark.ml.evaluation import RegressionEvaluator\n",
    "from pyspark.ml.tuning import CrossValidator,ParamGridBuilder\n",
    "from pyspark.ml.feature import StringIndexer, VectorAssembler, OneHotEncoder"
   ]
  },
  {
   "cell_type": "code",
   "execution_count": 96,
   "metadata": {
    "collapsed": true
   },
   "outputs": [],
   "source": [
    "train, test = trips.randomSplit([0.9, 0.1])"
   ]
  },
  {
   "cell_type": "code",
   "execution_count": 97,
   "metadata": {},
   "outputs": [
    {
     "data": {
      "text/plain": [
       "(602773, 67186)"
      ]
     },
     "execution_count": 97,
     "metadata": {},
     "output_type": "execute_result"
    }
   ],
   "source": [
    "train.count(), test.count()"
   ]
  },
  {
   "cell_type": "code",
   "execution_count": 98,
   "metadata": {
    "collapsed": true
   },
   "outputs": [],
   "source": [
    "def implement_string_indexer(cols, train, test):\n",
    "    for c in cols:\n",
    "        si = StringIndexer(inputCol=c, outputCol=c+'_si')\n",
    "        sm = si.fit(train)\n",
    "        train = sm.transform(train).drop(c)\n",
    "        train = train.withColumnRenamed(c + '_si', c)\n",
    "        test = sm.transform(test).drop(c)\n",
    "        test = test.withColumnRenamed(c + '_si', c)\n",
    "        return (train,test)\n",
    "\n",
    "cols = ['subscription_type']\n",
    "\n",
    "train_si, test_si = implement_string_indexer(cols, train, test)"
   ]
  },
  {
   "cell_type": "code",
   "execution_count": 99,
   "metadata": {},
   "outputs": [
    {
     "data": {
      "text/plain": [
       "(602773, 67186)"
      ]
     },
     "execution_count": 99,
     "metadata": {},
     "output_type": "execute_result"
    }
   ],
   "source": [
    "train_si.count(), test_si.count()"
   ]
  },
  {
   "cell_type": "code",
   "execution_count": 88,
   "metadata": {},
   "outputs": [
    {
     "name": "stdout",
     "output_type": "stream",
     "text": [
      "root\n",
      " |-- duration: integer (nullable = true)\n",
      " |-- end_station_id: integer (nullable = true)\n",
      " |-- start_station_id: integer (nullable = true)\n",
      " |-- day_of_week: integer (nullable = true)\n",
      " |-- hour: integer (nullable = true)\n",
      " |-- subscription_type: double (nullable = true)\n",
      "\n"
     ]
    }
   ],
   "source": [
    "train_si.printSchema()"
   ]
  },
  {
   "cell_type": "code",
   "execution_count": 89,
   "metadata": {},
   "outputs": [
    {
     "name": "stdout",
     "output_type": "stream",
     "text": [
      "+--------+--------------+----------------+-----------+----+-----------------+\n",
      "|duration|end_station_id|start_station_id|day_of_week|hour|subscription_type|\n",
      "+--------+--------------+----------------+-----------+----+-----------------+\n",
      "|      60|            24|              24|          2|   8|              0.0|\n",
      "|      60|            41|              41|          1|  14|              0.0|\n",
      "|      60|            50|              50|          1|   9|              0.0|\n",
      "|      60|            60|              60|          7|  21|              0.0|\n",
      "|      60|            65|              65|          1|  18|              0.0|\n",
      "+--------+--------------+----------------+-----------+----+-----------------+\n",
      "only showing top 5 rows\n",
      "\n"
     ]
    }
   ],
   "source": [
    "train_si.show(5)"
   ]
  },
  {
   "cell_type": "code",
   "execution_count": 90,
   "metadata": {},
   "outputs": [
    {
     "name": "stdout",
     "output_type": "stream",
     "text": [
      "+--------+--------------+----------------+-----------+----+-----------------+\n",
      "|duration|end_station_id|start_station_id|day_of_week|hour|subscription_type|\n",
      "+--------+--------------+----------------+-----------+----+-----------------+\n",
      "|      60|            24|              24|          2|   8|    (1,[0],[1.0])|\n",
      "|      60|            41|              41|          1|  14|    (1,[0],[1.0])|\n",
      "|      60|            50|              50|          1|   9|    (1,[0],[1.0])|\n",
      "|      60|            60|              60|          7|  21|    (1,[0],[1.0])|\n",
      "|      60|            65|              65|          1|  18|    (1,[0],[1.0])|\n",
      "+--------+--------------+----------------+-----------+----+-----------------+\n",
      "only showing top 5 rows\n",
      "\n"
     ]
    }
   ],
   "source": [
    "def implement_one_hot_encoding(cols, train, test):\n",
    "    for c in cols:\n",
    "        ohe = OneHotEncoder(inputCol=c, outputCol=c+'_ohe')\n",
    "        train = ohe.transform(train).drop(c)\n",
    "        train = train.withColumnRenamed(c + '_ohe', c)\n",
    "        test = ohe.transform(test).drop(c)\n",
    "        test = test.withColumnRenamed(c + '_ohe', c)\n",
    "        return (train,test)\n",
    "\n",
    "train_ohe, test_ohe = implement_one_hot_encoding(cols, train_si, test_si)\n",
    "\n",
    "train_ohe.show(5)"
   ]
  },
  {
   "cell_type": "code",
   "execution_count": 101,
   "metadata": {},
   "outputs": [
    {
     "data": {
      "text/plain": [
       "Accumulator<id=0, value=66674>"
      ]
     },
     "execution_count": 101,
     "metadata": {},
     "output_type": "execute_result"
    }
   ],
   "source": [
    "accu = sc.accumulator(0)\n",
    "test_ohe.foreach(lambda x: accu.add(1))\n",
    "accu"
   ]
  },
  {
   "cell_type": "code",
   "execution_count": 102,
   "metadata": {},
   "outputs": [
    {
     "data": {
      "text/plain": [
       "(603285, 66674)"
      ]
     },
     "execution_count": 102,
     "metadata": {},
     "output_type": "execute_result"
    }
   ],
   "source": [
    "train_ohe.count(), test_ohe.count()"
   ]
  },
  {
   "cell_type": "code",
   "execution_count": 103,
   "metadata": {},
   "outputs": [
    {
     "name": "stdout",
     "output_type": "stream",
     "text": [
      "root\n",
      " |-- duration: integer (nullable = true)\n",
      " |-- end_station_id: integer (nullable = true)\n",
      " |-- start_station_id: integer (nullable = true)\n",
      " |-- day_of_week: integer (nullable = true)\n",
      " |-- hour: integer (nullable = true)\n",
      " |-- subscription_type: vector (nullable = true)\n",
      "\n"
     ]
    }
   ],
   "source": [
    "train_ohe.printSchema()"
   ]
  },
  {
   "cell_type": "code",
   "execution_count": 104,
   "metadata": {},
   "outputs": [
    {
     "name": "stdout",
     "output_type": "stream",
     "text": [
      "+--------------------+-----+\n",
      "|            features|label|\n",
      "+--------------------+-----+\n",
      "|[24.0,24.0,2.0,8....|   60|\n",
      "|[41.0,41.0,1.0,14...|   60|\n",
      "|[50.0,50.0,1.0,9....|   60|\n",
      "|[60.0,60.0,7.0,21...|   60|\n",
      "|[65.0,65.0,1.0,18...|   60|\n",
      "+--------------------+-----+\n",
      "only showing top 5 rows\n",
      "\n"
     ]
    }
   ],
   "source": [
    "input_cols = ['start_station_id', 'end_station_id', 'day_of_week', 'hour', 'subscription_type']\n",
    "\n",
    "va = VectorAssembler(outputCol = 'features', inputCols = input_cols)\n",
    "train_transformed = va.transform(train_ohe).select('features', 'duration').withColumnRenamed('duration', 'label')\n",
    "test_transformed = va.transform(test_ohe).select('features', 'duration').withColumnRenamed('duration', 'label')\n",
    "\n",
    "train_transformed.show(5)"
   ]
  },
  {
   "cell_type": "code",
   "execution_count": 105,
   "metadata": {},
   "outputs": [
    {
     "data": {
      "text/plain": [
       "(603285, 66674)"
      ]
     },
     "execution_count": 105,
     "metadata": {},
     "output_type": "execute_result"
    }
   ],
   "source": [
    "train_transformed.cache()\n",
    "test_transformed.cache()\n",
    "train_transformed.count(), test_transformed.count()"
   ]
  },
  {
   "cell_type": "code",
   "execution_count": null,
   "metadata": {
    "collapsed": true
   },
   "outputs": [],
   "source": []
  }
 ],
 "metadata": {
  "kernelspec": {
   "display_name": "Python 2",
   "language": "python",
   "name": "python2"
  },
  "language_info": {
   "codemirror_mode": {
    "name": "ipython",
    "version": 2
   },
   "file_extension": ".py",
   "mimetype": "text/x-python",
   "name": "python",
   "nbconvert_exporter": "python",
   "pygments_lexer": "ipython2",
   "version": "2.7.14"
  }
 },
 "nbformat": 4,
 "nbformat_minor": 2
}
