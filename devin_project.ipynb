{
 "cells": [
  {
   "cell_type": "code",
   "execution_count": 1,
   "metadata": {
    "collapsed": true
   },
   "outputs": [],
   "source": [
    "from pyspark import SparkContext\n",
    "from pyspark import SparkContext, SparkConf\n",
    "from pyspark.sql import Row\n",
    "from pyspark.sql.types import *\n",
    "from pyspark.sql import SQLContext\n",
    "from pyspark.sql.functions import *\n",
    "from datetime import datetime\n",
    "\n",
    "def toIntSafe(inval):\n",
    "  try:\n",
    "    return int(inval)\n",
    "  except ValueError:\n",
    "    return None\n",
    "\n",
    "def toTimeSafe_trip(inval):\n",
    "  try:\n",
    "    return datetime.strptime(inval, \"%m/%d/%Y %H:%M\")\n",
    "  except ValueError:\n",
    "    return None\n",
    "\n",
    "def toTimeSafe_status(inval):\n",
    "  try:\n",
    "    return datetime.strptime(inval, \"%Y/%m/%d %H:%M:%S\")\n",
    "  except ValueError:\n",
    "    return None\n",
    "\n",
    "def toTimeSafe_weather(inval):\n",
    "  try:\n",
    "    return datetime.strptime(inval, \"%m/%d/%Y\")\n",
    "  except ValueError:\n",
    "    return None\n",
    "\n",
    "def toTimeSafe_station(inval):\n",
    "  try:\n",
    "    return datetime.strptime(inval, \"%m/%d/%Y\")\n",
    "  except ValueError:\n",
    "    return None\n",
    "\n",
    "def toLongSafe(inval):\n",
    "  try:\n",
    "    return float(inval)\n",
    "  except ValueError:\n",
    "    return None\n",
    "\n",
    "sc = SparkContext.getOrCreate()"
   ]
  },
  {
   "cell_type": "code",
   "execution_count": 2,
   "metadata": {},
   "outputs": [
    {
     "data": {
      "text/plain": [
       "datetime.datetime(2013, 8, 29, 14, 13)"
      ]
     },
     "execution_count": 2,
     "metadata": {},
     "output_type": "execute_result"
    }
   ],
   "source": [
    "toTimeSafe_trip(u'8/29/2013 14:13')"
   ]
  },
  {
   "cell_type": "code",
   "execution_count": 3,
   "metadata": {
    "collapsed": true
   },
   "outputs": [],
   "source": [
    "trip = sc.textFile('Data/trip.csv', 8).map(lambda x : x.split(',')).cache()\n",
    "trip_cols = trip.first()\n",
    "trip = trip.filter(lambda x: x[0] != 'id').cache()\n",
    "\n",
    "status = sc.textFile('Data/status.csv', 8).map(lambda x : x.split(',')).cache()\n",
    "status_cols = status.first()\n",
    "status = status.filter(lambda x: x[0] != u'station_id').cache()\n",
    "\n",
    "weather = sc.textFile('Data/weather.csv', 8).map(lambda x : x.split(',')).cache()\n",
    "\n",
    "station = sc.textFile('Data/station.csv', 8).map(lambda x : x.split(',')).cache()\n",
    "station_cols = station.first()\n",
    "station = station.filter(lambda x: x[0] != 'id').cache()"
   ]
  },
  {
   "cell_type": "code",
   "execution_count": 4,
   "metadata": {},
   "outputs": [
    {
     "data": {
      "text/plain": [
       "669959"
      ]
     },
     "execution_count": 4,
     "metadata": {},
     "output_type": "execute_result"
    }
   ],
   "source": [
    "trip.count()"
   ]
  },
  {
   "cell_type": "code",
   "execution_count": 5,
   "metadata": {
    "collapsed": true
   },
   "outputs": [],
   "source": [
    "tripSchema = StructType(\n",
    "    [StructField(\"id\", IntegerType(), True), \n",
    "         StructField(\"duration\", IntegerType(), True),\n",
    "         StructField(\"start_date\", TimestampType(), True), \n",
    "         StructField(\"start_station_name\", StringType(), True),\n",
    "         StructField(\"start_station_id\", IntegerType(), True),\n",
    "       StructField(\"end_date\", TimestampType(), True),\n",
    "       StructField(\"end_station_name\", StringType(), True),\n",
    "       StructField(\"end_station_id\", IntegerType(), True),\n",
    "       StructField(\"bike_id\", IntegerType(), True),\n",
    "       StructField(\"subscription_type\", StringType(), True),\n",
    "       StructField(\"zip_code\", StringType(), True)]\n",
    ")\n",
    "\n",
    "tripDF = sqlContext.createDataFrame(trip.map(lambda x: Row(toIntSafe(x[0]), \n",
    "                                                           toIntSafe(x[1]), \n",
    "                                                           toTimeSafe_trip(x[2]), \n",
    "                                                           x[3], \n",
    "                                                           toIntSafe(x[4]), \n",
    "                                                           toTimeSafe_trip(x[5]), \n",
    "                                                           x[6], \n",
    "                                                           toIntSafe(x[7]), \n",
    "                                                           toIntSafe(x[8]),\n",
    "                                                           x[9], \n",
    "                                                           x[10])), tripSchema)\n",
    "\n",
    "\n",
    "statusSchema = StructType([\n",
    "    StructField('station_id', StringType(), True),\n",
    "    StructField('bikes_available', IntegerType(), True),\n",
    "    StructField('docks_available', IntegerType(), True),\n",
    "    StructField('time', TimestampType(), True),\n",
    "    StructField(\"bikes_utilised_percentage\", FloatType(), True)\n",
    "])\n",
    "\n",
    "statusDF = sqlContext.createDataFrame(status.map(lambda x: Row(x[0], \n",
    "                                                               toIntSafe(x[1]), \n",
    "                                                               toIntSafe(x[2]), \n",
    "                                                               toTimeSafe_status(x[3]),\n",
    "                                                               float(x[2])/(float(x[1]) + float(x[2])))), statusSchema)\n",
    "\n",
    "weatherSchema = StructType([\n",
    "    StructField('date', TimestampType(), True),\n",
    "    StructField('max_temperature_f', FloatType(), True),\n",
    "    StructField('mean_temperature_f', FloatType(), True),\n",
    "    StructField('min_temperature_f', FloatType(), True),\n",
    "    StructField('max_dew_point_f', FloatType(), True),\n",
    "    StructField('mean_dew_point_f', FloatType(), True),\n",
    "    StructField('min_dew_point_f', FloatType(), True),\n",
    "    StructField('max_humidity', FloatType(), True),\n",
    "    StructField('mean_humidity', FloatType(), True),\n",
    "    StructField('min_humidity', FloatType(), True),\n",
    "    StructField('max_sea_level_pressure_inches', FloatType(), True),\n",
    "    StructField('mean_sea_level_pressure_inches', FloatType(), True),\n",
    "    StructField('min_sea_level_pressure_inches', FloatType(), True),\n",
    "    StructField('max_visibility_miles', FloatType(), True),\n",
    "    StructField('mean_visibility_miles', FloatType(), True),\n",
    "    StructField('min_visibility_miles', FloatType(), True),\n",
    "    StructField('max_wind_Speed_mph', FloatType(), True),\n",
    "    StructField('mean_wind_speed_mph', FloatType(), True),\n",
    "    StructField('max_gust_speed_mph', FloatType(), True),\n",
    "    StructField('precipitation_inches', FloatType(), True),\n",
    "    StructField('cloud_cover', FloatType(), True),\n",
    "    StructField('events', StringType(), True),\n",
    "    StructField('wind_dir_degrees', FloatType(), True),\n",
    "    StructField('zip_code', StringType(), True)\n",
    "])\n",
    "\n",
    "weatherDF = sqlContext.createDataFrame(weather.map(lambda x: Row(toTimeSafe_weather(x[0]), \n",
    "                                                                 toLongSafe(x[1]), \n",
    "                                                                 toLongSafe(x[2]),\n",
    "                                                                 toLongSafe(x[3]), \n",
    "                                                                 toLongSafe(x[4]), \n",
    "                                                                 toLongSafe(x[5]), \n",
    "                                                                 toLongSafe(x[6]), \n",
    "                                                                 toLongSafe(x[7]), \n",
    "                                                                 toLongSafe(x[8]),\n",
    "                                                                 toLongSafe(x[9]), \n",
    "                                                                 toLongSafe(x[10]), \n",
    "                                                                 toLongSafe(x[11]), \n",
    "                                                                 toLongSafe(x[12]), \n",
    "                                                                 toLongSafe(x[13]), \n",
    "                                                                 toLongSafe(x[14]), \n",
    "                                                                 toLongSafe(x[15]), \n",
    "                                                                 toLongSafe(x[16]),\n",
    "                                                                 toLongSafe(x[17]), \n",
    "                                                                 toLongSafe(x[18]), \n",
    "                                                                 toLongSafe(x[19]), \n",
    "                                                                 toLongSafe(x[20]), \n",
    "                                                                 toLongSafe(x[21]), \n",
    "                                                                 toLongSafe(x[22]), \n",
    "                                                                 toLongSafe(x[23]))), weatherSchema)\n",
    "\n",
    "\n",
    "\n",
    "stationSchema = StructType([\n",
    "    StructField('id', StringType(), True),\n",
    "    StructField('name', StringType(), True),\n",
    "    StructField('lat', FloatType(), True),\n",
    "    StructField('long', FloatType(), True),\n",
    "    StructField('dock_count', IntegerType(), True),\n",
    "    StructField('city', StringType(), True),\n",
    "    StructField('installation_date', TimestampType(), True)\n",
    "])\n",
    "\n",
    "stationDF = sqlContext.createDataFrame(station.map(lambda x: Row(x[0], \n",
    "                                                                 x[1], \n",
    "                                                                 toLongSafe(x[2]),\n",
    "                                                                 toLongSafe(x[3]), \n",
    "                                                                 toIntSafe(x[4]), \n",
    "                                                                 x[5], \n",
    "                                                                 toTimeSafe_station(x[6]))), stationSchema)\n",
    "\n",
    "tripDF = tripDF.cache()\n",
    "weatherDF = weatherDF.cache()\n",
    "statusDF = statusDF.cache()\n",
    "stationDF = stationDF.cache()"
   ]
  },
  {
   "cell_type": "code",
   "execution_count": 6,
   "metadata": {},
   "outputs": [
    {
     "data": {
      "text/plain": [
       "669959"
      ]
     },
     "execution_count": 6,
     "metadata": {},
     "output_type": "execute_result"
    }
   ],
   "source": [
    "tripDF.count()"
   ]
  },
  {
   "cell_type": "code",
   "execution_count": 7,
   "metadata": {
    "scrolled": false
   },
   "outputs": [],
   "source": [
    "trip_counts = tripDF.select('start_station_name', 'end_station_name', 'duration').\\\n",
    "                groupBy('start_station_name', 'end_station_name').\\\n",
    "                agg(count(tripDF['*']), avg(tripDF['duration']), max(tripDF['duration']), min(tripDF['duration'])).\\\n",
    "                orderBy(count(tripDF['*']), ascending=0).\\\n",
    "                cache()"
   ]
  },
  {
   "cell_type": "code",
   "execution_count": 8,
   "metadata": {},
   "outputs": [
    {
     "name": "stdout",
     "output_type": "stream",
     "text": [
      "+--------------------+--------------------+--------+------------------+-------------+-------------+\n",
      "|  start_station_name|    end_station_name|count(1)|     avg(duration)|max(duration)|min(duration)|\n",
      "+--------------------+--------------------+--------+------------------+-------------+-------------+\n",
      "|San Francisco Cal...|     Townsend at 7th|    6216| 317.3016409266409|        91522|          144|\n",
      "|Harry Bridges Pla...|Embarcadero at Sa...|    6164|1264.3875730045424|        71180|          219|\n",
      "|     Townsend at 7th|San Francisco Cal...|    5041|285.19738147193016|        40606|          132|\n",
      "|     2nd at Townsend|Harry Bridges Pla...|    4839| 583.0818350898946|        71188|          294|\n",
      "|Harry Bridges Pla...|     2nd at Townsend|    4357|  668.652513197154|        37907|          325|\n",
      "|Embarcadero at Sa...|   Steuart at Market|    4269| 542.5350199109862|        24885|          228|\n",
      "|Embarcadero at Fo...|San Francisco Cal...|    3967| 716.9868918578271|        87612|          345|\n",
      "|   Steuart at Market|     2nd at Townsend|    3903| 576.7640276710223|        67259|          291|\n",
      "|   2nd at South Park|   Market at Sansome|    3627|  540.460711331679|        34331|          195|\n",
      "|San Francisco Cal...|Harry Bridges Pla...|    3622| 838.2711209276642|        58413|          414|\n",
      "+--------------------+--------------------+--------+------------------+-------------+-------------+\n",
      "only showing top 10 rows\n",
      "\n"
     ]
    }
   ],
   "source": [
    "trip_counts.show(10)"
   ]
  },
  {
   "cell_type": "code",
   "execution_count": 9,
   "metadata": {},
   "outputs": [
    {
     "name": "stdout",
     "output_type": "stream",
     "text": [
      "+--------------------+--------------------+------------------+\n",
      "|  start_station_name|    end_station_name|     avg(duration)|\n",
      "+--------------------+--------------------+------------------+\n",
      "|Redwood City Medi...|SJSU - San Salvad...|          229914.0|\n",
      "|Castro Street and...|       Howard at 2nd|          179212.5|\n",
      "|Santa Clara Count...|California Ave Ca...|          169308.0|\n",
      "|South Van Ness at...|       2nd at Folsom|156461.03603603604|\n",
      "|Mountain View Cal...|San Jose Diridon ...|          101207.5|\n",
      "|    Adobe on Almaden|Rengstorff Avenue...|           84633.0|\n",
      "|San Jose Diridon ...|Mountain View Cal...|           83205.0|\n",
      "|San Francisco Cit...|  San Jose City Hall|           80183.0|\n",
      "|Castro Street and...|San Jose Diridon ...|           78068.5|\n",
      "|           Japantown|Cowper at University|           77725.5|\n",
      "|Palo Alto Caltrai...|San Francisco Cal...|           76833.0|\n",
      "|San Jose Diridon ...|Cowper at University|           75844.0|\n",
      "|San Antonio Shopp...|Castro Street and...| 73043.11538461539|\n",
      "|Palo Alto Caltrai...|Castro Street and...|           72535.0|\n",
      "|Redwood City Publ...|Castro Street and...|           69840.0|\n",
      "|Mountain View Cal...|Palo Alto Caltrai...| 68240.27272727272|\n",
      "|       Market at 4th|Paseo de San Antonio|           66748.0|\n",
      "|San Antonio Shopp...|Civic Center BART...|           56649.0|\n",
      "|California Ave Ca...|     Beale at Market|           56583.0|\n",
      "|Mountain View Cit...|       St James Park|           54178.0|\n",
      "+--------------------+--------------------+------------------+\n",
      "only showing top 20 rows\n",
      "\n"
     ]
    }
   ],
   "source": [
    "trip_durations = tripDF.select('start_station_name', 'end_station_name', 'duration').\\\n",
    "                groupBy('start_station_name', 'end_station_name').avg('duration').\\\n",
    "                orderBy('avg(duration)',ascending=0).cache()\n",
    "trip_durations.show()"
   ]
  },
  {
   "cell_type": "code",
   "execution_count": 17,
   "metadata": {},
   "outputs": [
    {
     "name": "stdout",
     "output_type": "stream",
     "text": [
      "+--------------------+--------------------+-------------+\n",
      "|  start_station_name|    end_station_name|max(duration)|\n",
      "+--------------------+--------------------+-------------+\n",
      "|South Van Ness at...|       2nd at Folsom|     17270400|\n",
      "|   Market at Sansome|Yerba Buena Cente...|      2137000|\n",
      "|San Antonio Shopp...|Castro Street and...|      1852590|\n",
      "|University and Em...|University and Em...|      1133540|\n",
      "|Redwood City Calt...|Stanford in Redwo...|       720454|\n",
      "|Harry Bridges Pla...|Civic Center BART...|       716480|\n",
      "|Arena Green / SAP...|    Adobe on Almaden|       715339|\n",
      "|Palo Alto Caltrai...|California Ave Ca...|       688899|\n",
      "|San Jose Civic Ce...|SJSU 4th at San C...|       655939|\n",
      "|South Van Ness at...|     Clay at Battery|       644771|\n",
      "|San Jose Diridon ...|SJSU 4th at San C...|       619322|\n",
      "|University and Em...|San Antonio Shopp...|       611240|\n",
      "|San Jose Civic Ce...|San Jose Civic Ce...|       602338|\n",
      "|California Ave Ca...|Palo Alto Caltrai...|       597517|\n",
      "|    San Pedro Square|    San Pedro Square|       594550|\n",
      "|San Antonio Caltr...|San Antonio Caltr...|       586356|\n",
      "|Rengstorff Avenue...|Mountain View Cal...|       560792|\n",
      "|Mountain View Cal...|Palo Alto Caltrai...|       552697|\n",
      "|Castro Street and...|San Antonio Shopp...|       517856|\n",
      "|Redwood City Medi...|Redwood City Calt...|       502617|\n",
      "+--------------------+--------------------+-------------+\n",
      "only showing top 20 rows\n",
      "\n"
     ]
    }
   ],
   "source": [
    "trip_durations_max = tripDF.select('start_station_name', 'end_station_name', 'duration').\\\n",
    "                groupBy('start_station_name', 'end_station_name').max('duration').\\\n",
    "                orderBy('max(duration)',ascending=0).cache()\n",
    "trip_durations_max.show()"
   ]
  },
  {
   "cell_type": "code",
   "execution_count": 10,
   "metadata": {},
   "outputs": [
    {
     "name": "stdout",
     "output_type": "stream",
     "text": [
      "+-----------------+------+\n",
      "|subscription_type| count|\n",
      "+-----------------+------+\n",
      "|       Subscriber|566746|\n",
      "|         Customer|103213|\n",
      "+-----------------+------+\n",
      "\n"
     ]
    }
   ],
   "source": [
    "subscription_types = tripDF.select('subscription_type').groupBy('subscription_type').count().cache()\n",
    "subscription_types.show()"
   ]
  },
  {
   "cell_type": "code",
   "execution_count": 11,
   "metadata": {},
   "outputs": [
    {
     "name": "stdout",
     "output_type": "stream",
     "text": [
      "+-----------------+-----------------+\n",
      "|subscription_type|    avg(duration)|\n",
      "+-----------------+-----------------+\n",
      "|       Subscriber|590.0488561013223|\n",
      "|         Customer|3951.761328514819|\n",
      "+-----------------+-----------------+\n",
      "\n"
     ]
    }
   ],
   "source": [
    "subscription_types = tripDF.select('subscription_type','duration').groupBy('subscription_type').avg('duration').cache()\n",
    "subscription_types.show()"
   ]
  },
  {
   "cell_type": "code",
   "execution_count": 12,
   "metadata": {},
   "outputs": [
    {
     "name": "stdout",
     "output_type": "stream",
     "text": [
      "+--------------------+--------------------+-----------------+------------------+--------+\n",
      "|  start_station_name|    end_station_name|subscription_type|     avg(duration)|count(1)|\n",
      "+--------------------+--------------------+-----------------+------------------+--------+\n",
      "|South Van Ness at...|       2nd at Folsom|         Customer|1570936.0909090908|      11|\n",
      "|Redwood City Medi...|SJSU - San Salvad...|       Subscriber|          229914.0|       1|\n",
      "|Castro Street and...|       Howard at 2nd|         Customer|          179212.5|       2|\n",
      "|Santa Clara Count...|California Ave Ca...|         Customer|          169308.0|       1|\n",
      "|San Antonio Shopp...|Castro Street and...|       Subscriber|143587.46153846153|      13|\n",
      "|University and Em...|San Antonio Shopp...|         Customer|          104252.5|       6|\n",
      "|Mountain View Cal...|San Jose Diridon ...|         Customer|          101207.5|       2|\n",
      "|Redwood City Publ...|    Broadway at Main|         Customer|           85258.0|       1|\n",
      "|    Adobe on Almaden|Rengstorff Avenue...|         Customer|           84633.0|       1|\n",
      "|San Jose Diridon ...|Mountain View Cal...|         Customer|           83205.0|       3|\n",
      "|San Francisco Cit...|  San Jose City Hall|         Customer|           80183.0|       1|\n",
      "|Castro Street and...|San Jose Diridon ...|         Customer|           78068.5|       2|\n",
      "|           Japantown|Cowper at University|         Customer|           77725.5|       2|\n",
      "|Palo Alto Caltrai...|San Francisco Cal...|         Customer|           76833.0|       2|\n",
      "|San Jose Diridon ...|Cowper at University|       Subscriber|           75844.0|       1|\n",
      "|Mountain View Cal...|Palo Alto Caltrai...|         Customer|           74883.4|      10|\n",
      "|Palo Alto Caltrai...|Castro Street and...|         Customer|           72535.0|       1|\n",
      "|Redwood City Publ...|Castro Street and...|         Customer|           69840.0|       1|\n",
      "|       Market at 4th|Paseo de San Antonio|         Customer|           66748.0|       1|\n",
      "|   Market at Sansome|Yerba Buena Cente...|         Customer| 63575.74285714285|      35|\n",
      "+--------------------+--------------------+-----------------+------------------+--------+\n",
      "only showing top 20 rows\n",
      "\n"
     ]
    }
   ],
   "source": [
    "trip_durations_by_sub = tripDF.select('start_station_name', 'end_station_name', 'duration', 'subscription_type').\\\n",
    "                groupBy('start_station_name', 'end_station_name', 'subscription_type').\\\n",
    "                agg(avg(tripDF['duration']), count(tripDF['*'])).\\\n",
    "                orderBy('avg(duration)',ascending=0).cache()\n",
    "trip_durations_by_sub.show()"
   ]
  },
  {
   "cell_type": "code",
   "execution_count": 13,
   "metadata": {},
   "outputs": [
    {
     "name": "stdout",
     "output_type": "stream",
     "text": [
      "+--------------------+--------------------+-----------------+------------------+\n",
      "|  start_station_name|    end_station_name|subscription_type|     avg(duration)|\n",
      "+--------------------+--------------------+-----------------+------------------+\n",
      "|Redwood City Medi...|    Broadway at Main|       Subscriber|             116.8|\n",
      "|    Broadway at Main|Redwood City Medi...|       Subscriber|124.85714285714286|\n",
      "|     Beale at Market|Temporary Transba...|       Subscriber|138.51313485113835|\n",
      "|     Spear at Folsom|Embarcadero at Br...|       Subscriber| 165.3045112781955|\n",
      "|Broadway St at Ba...|    Davis at Jackson|       Subscriber|173.33522727272728|\n",
      "|Commercial at Mon...|     Clay at Battery|       Subscriber|177.49107142857142|\n",
      "|Temporary Transba...|       Howard at 2nd|       Subscriber|184.04651162790697|\n",
      "|    Davis at Jackson|Broadway St at Ba...|       Subscriber|187.57333333333332|\n",
      "|Powell at Post (U...|      Post at Kearny|       Subscriber| 187.6577540106952|\n",
      "|Redwood City Calt...|San Mateo County ...|       Subscriber| 199.8548387096774|\n",
      "|Grant Avenue at C...|Commercial at Mon...|       Subscriber|200.47696879643388|\n",
      "|Embarcadero at Fo...|   Steuart at Market|       Subscriber|205.46279069767442|\n",
      "|Embarcadero at Br...|     Spear at Folsom|       Subscriber|206.14367816091954|\n",
      "|   Franklin at Maple|Redwood City Publ...|       Subscriber|207.23529411764707|\n",
      "|      Post at Kearny|Mechanics Plaza (...|       Subscriber|210.05421686746988|\n",
      "|       Park at Olive|California Ave Ca...|       Subscriber|215.02941176470588|\n",
      "|       Howard at 2nd|Yerba Buena Cente...|       Subscriber|217.02739726027397|\n",
      "| San Salvador at 1st|SJSU 4th at San C...|       Subscriber|             219.0|\n",
      "|Arena Green / SAP...|Santa Clara at Al...|       Subscriber| 219.1082089552239|\n",
      "|Santa Clara at Al...|Arena Green / SAP...|       Subscriber|221.43992606284658|\n",
      "+--------------------+--------------------+-----------------+------------------+\n",
      "only showing top 20 rows\n",
      "\n"
     ]
    }
   ],
   "source": [
    "trip_durations_by_sub = tripDF.select('start_station_name', 'end_station_name', 'duration', 'subscription_type').\\\n",
    "                groupBy('start_station_name', 'end_station_name', 'subscription_type').avg('duration').\\\n",
    "                orderBy('avg(duration)').cache()\n",
    "trip_durations_by_sub.show()"
   ]
  },
  {
   "cell_type": "code",
   "execution_count": 14,
   "metadata": {},
   "outputs": [
    {
     "name": "stdout",
     "output_type": "stream",
     "text": [
      "+-------+-----+\n",
      "|bike_id|count|\n",
      "+-------+-----+\n",
      "|    392| 2061|\n",
      "|    489| 1975|\n",
      "|    558| 1955|\n",
      "|    267| 1951|\n",
      "|    631| 1948|\n",
      "|    518| 1942|\n",
      "|    532| 1933|\n",
      "|    592| 1932|\n",
      "|    395| 1927|\n",
      "|    540| 1926|\n",
      "|    368| 1926|\n",
      "|    421| 1922|\n",
      "|    491| 1921|\n",
      "|    524| 1915|\n",
      "|    327| 1911|\n",
      "|    503| 1909|\n",
      "|    334| 1908|\n",
      "|    507| 1906|\n",
      "|    366| 1904|\n",
      "|    389| 1904|\n",
      "+-------+-----+\n",
      "only showing top 20 rows\n",
      "\n"
     ]
    }
   ],
   "source": [
    "bike_usage = tripDF.select('bike_id').groupBy('bike_id').count().orderBy('count', ascending=0).cache()\n",
    "bike_usage.show()"
   ]
  },
  {
   "cell_type": "code",
   "execution_count": 15,
   "metadata": {},
   "outputs": [
    {
     "name": "stdout",
     "output_type": "stream",
     "text": [
      "+--------------------+-------------------+\n",
      "|                name|  installation_date|\n",
      "+--------------------+-------------------+\n",
      "|         Ryland Park|2014-04-09 00:00:00|\n",
      "|          Mezes Park|2014-02-20 00:00:00|\n",
      "|Broadway St at Ba...|2014-01-22 00:00:00|\n",
      "|San Antonio Shopp...|2013-12-31 00:00:00|\n",
      "|Castro Street and...|2013-12-31 00:00:00|\n",
      "|Santa Clara Count...|2013-12-31 00:00:00|\n",
      "|  Powell Street BART|2013-08-25 00:00:00|\n",
      "|   Steuart at Market|2013-08-25 00:00:00|\n",
      "|Mechanics Plaza (...|2013-08-25 00:00:00|\n",
      "|       Market at 4th|2013-08-25 00:00:00|\n",
      "|   Market at Sansome|2013-08-25 00:00:00|\n",
      "|South Van Ness at...|2013-08-23 00:00:00|\n",
      "|      Market at 10th|2013-08-23 00:00:00|\n",
      "|Yerba Buena Cente...|2013-08-23 00:00:00|\n",
      "|San Francisco Cal...|2013-08-23 00:00:00|\n",
      "|San Francisco Cal...|2013-08-23 00:00:00|\n",
      "|Powell at Post (U...|2013-08-23 00:00:00|\n",
      "|Civic Center BART...|2013-08-23 00:00:00|\n",
      "|     2nd at Townsend|2013-08-22 00:00:00|\n",
      "|       2nd at Folsom|2013-08-22 00:00:00|\n",
      "+--------------------+-------------------+\n",
      "only showing top 20 rows\n",
      "\n"
     ]
    }
   ],
   "source": [
    "station_dates = stationDF.select('name','installation_date').orderBy('installation_date', ascending=0).cache()\n",
    "station_dates.show()"
   ]
  },
  {
   "cell_type": "code",
   "execution_count": null,
   "metadata": {
    "collapsed": true
   },
   "outputs": [],
   "source": []
  },
  {
   "cell_type": "code",
   "execution_count": null,
   "metadata": {
    "collapsed": true
   },
   "outputs": [],
   "source": []
  }
 ],
 "metadata": {
  "kernelspec": {
   "display_name": "Python 2",
   "language": "python",
   "name": "python2"
  },
  "language_info": {
   "codemirror_mode": {
    "name": "ipython",
    "version": 2
   },
   "file_extension": ".py",
   "mimetype": "text/x-python",
   "name": "python",
   "nbconvert_exporter": "python",
   "pygments_lexer": "ipython2",
   "version": "2.7.13"
  }
 },
 "nbformat": 4,
 "nbformat_minor": 2
}
