{
 "cells": [
  {
   "cell_type": "code",
   "execution_count": 1,
   "metadata": {},
   "outputs": [
    {
     "data": {
      "text/html": [
       "\n",
       "        <div>\n",
       "            <p><b>SparkContext</b></p>\n",
       "\n",
       "            <p><a href=\"http://10.1.148.51:4040\">Spark UI</a></p>\n",
       "\n",
       "            <dl>\n",
       "              <dt>Version</dt>\n",
       "                <dd><code>v2.2.0</code></dd>\n",
       "              <dt>Master</dt>\n",
       "                <dd><code>local[*]</code></dd>\n",
       "              <dt>AppName</dt>\n",
       "                <dd><code>PySparkShell</code></dd>\n",
       "            </dl>\n",
       "        </div>\n",
       "        "
      ],
      "text/plain": [
       "<SparkContext master=local[*] appName=PySparkShell>"
      ]
     },
     "execution_count": 1,
     "metadata": {},
     "output_type": "execute_result"
    }
   ],
   "source": [
    "sc"
   ]
  },
  {
   "cell_type": "code",
   "execution_count": 2,
   "metadata": {
    "collapsed": true
   },
   "outputs": [],
   "source": [
    "from pyspark.sql import Row\n",
    "from pyspark.sql.types import *\n",
    "from pyspark.sql import SQLContext\n",
    "from pyspark.ml.feature import VectorAssembler\n",
    "from pyspark.ml.classification import DecisionTreeClassifier\n",
    "from pyspark.ml.evaluation import MulticlassClassificationEvaluator\n",
    "from pyspark.sql.functions import *\n",
    "from datetime import datetime\n",
    "from pyspark.ml.feature import StringIndexer"
   ]
  },
  {
   "cell_type": "code",
   "execution_count": 3,
   "metadata": {
    "collapsed": true
   },
   "outputs": [],
   "source": [
    "sqlContext = SQLContext(sc)"
   ]
  },
  {
   "cell_type": "code",
   "execution_count": 9,
   "metadata": {},
   "outputs": [
    {
     "name": "stdout",
     "output_type": "stream",
     "text": [
      "root\n",
      " |-- _id: struct (nullable = true)\n",
      " |    |-- oid: string (nullable = true)\n",
      " |-- bikes_available: integer (nullable = true)\n",
      " |-- docks_available: integer (nullable = true)\n",
      " |-- station_id: integer (nullable = true)\n",
      " |-- time: string (nullable = true)\n",
      "\n"
     ]
    }
   ],
   "source": [
    "status_df = spark.read.format(\"com.mongodb.spark.sql.DefaultSource\")\\\n",
    ".option(\"uri\",\"mongodb://54.245.37.88:27017/bikeshare.status\").load()\n",
    "status_df.printSchema()\n",
    "\n",
    "trip_df = spark.read.format(\"com.mongodb.spark.sql.DefaultSource\")\\\n",
    ".option(\"uri\",\"mongodb://54.245.37.88:27017/bikeshare.trip\").load()\n",
    "trip_df.printSchema()\n",
    "\n",
    "station_df = spark.read.format(\"com.mongodb.spark.sql.DefaultSource\")\\\n",
    ".option(\"uri\",\"mongodb://54.245.37.88:27017/bikeshare.station\").load()\n",
    "station_df.printSchema()"
   ]
  },
  {
   "cell_type": "code",
   "execution_count": 40,
   "metadata": {
    "collapsed": true
   },
   "outputs": [],
   "source": [
    "#functions to transform dataframe\n",
    "\n",
    "def toIntSafe(num):\n",
    "    try:\n",
    "        return int(num)\n",
    "    except ValueError:\n",
    "        return None\n",
    "    \n",
    "def toFloatSafe(num):\n",
    "    try:\n",
    "        return float(num)\n",
    "    except ValueError:\n",
    "        return None    \n",
    "    \n",
    "def toTimeStampSafe(data):\n",
    "    try:\n",
    "        return datetime.strptime(data, \"%Y/%m/%d %H:%M:%S\") \n",
    "    except ValueError:\n",
    "        return None\n",
    "    \n",
    "def time_of_day(x):\n",
    "    x = toTimeStampSafe(x)\n",
    "    if x:\n",
    "        hour = x.hour\n",
    "        if hour >= 6 and hour < 10:\n",
    "            return 0\n",
    "        if hour >= 10 and hour < 14:\n",
    "            return 1\n",
    "        if hour >= 14 and hour < 20:\n",
    "            return 2\n",
    "        if hour >= 20 or hour < 6:\n",
    "            return 3\n",
    "    else:\n",
    "        return None\n",
    "    \n",
    "def isWeekday(x):\n",
    "    x = toTimeStampSafe(x)\n",
    "    if x:\n",
    "        weekday = x.isoweekday()\n",
    "        if weekday < 5:\n",
    "            return 1\n",
    "        else:\n",
    "            return 0\n",
    "    else:\n",
    "        return None\n",
    "    \n",
    "timefunction = udf(lambda x: time_of_day(x))\n",
    "weekfunction = udf(lambda x: isWeekday(x))"
   ]
  },
  {
   "cell_type": "code",
   "execution_count": 41,
   "metadata": {},
   "outputs": [],
   "source": [
    "status_df = status_df.withColumn('bike_util', \\\n",
    "        ((col('docks_available') * 1.0) /(col('bikes_available') + col('docks_available'))))\n",
    "\n",
    "status = status_df.select('station_id', 'bike_util', timefunction('time').alias('time_of_day'), \\\n",
    "                 weekfunction('time').alias('is_weekday')).cache()\n"
   ]
  },
  {
   "cell_type": "code",
   "execution_count": null,
   "metadata": {},
   "outputs": [],
   "source": [
    "#groupBy takes forever\n",
    "daily_avg = status.groupBy('station_id', 'time_of_day', 'is_weekday')\\\n",
    ".mean('bike_util').cache()\n",
    "daily_avg.show(5)"
   ]
  },
  {
   "cell_type": "code",
   "execution_count": null,
   "metadata": {
    "collapsed": true
   },
   "outputs": [],
   "source": [
    "status.unpersist()"
   ]
  },
  {
   "cell_type": "code",
   "execution_count": 30,
   "metadata": {},
   "outputs": [
    {
     "name": "stdout",
     "output_type": "stream",
     "text": [
      "+---+--------+------------------+-------------------+\n",
      "| id|    city|               lat|               long|\n",
      "+---+--------+------------------+-------------------+\n",
      "|  2|San Jose|         37.329732|-121.90178200000001|\n",
      "|  3|San Jose|         37.330698|        -121.888979|\n",
      "|  4|San Jose|         37.333988|        -121.894902|\n",
      "|  5|San Jose|         37.331415|          -121.8932|\n",
      "|  6|San Jose|37.336721000000004|        -121.894074|\n",
      "+---+--------+------------------+-------------------+\n",
      "only showing top 5 rows\n",
      "\n"
     ]
    }
   ],
   "source": [
    "#join station and transformed bike usage df \n",
    "station = station_df.select('id'.alias('station_id'), 'city', 'lat', 'long').cache()\n",
    "df_daily_avg = daily_avg.join(station, on='station_id')"
   ]
  },
  {
   "cell_type": "code",
   "execution_count": null,
   "metadata": {
    "collapsed": true
   },
   "outputs": [],
   "source": []
  },
  {
   "cell_type": "code",
   "execution_count": null,
   "metadata": {
    "collapsed": true
   },
   "outputs": [],
   "source": []
  },
  {
   "cell_type": "code",
   "execution_count": 28,
   "metadata": {},
   "outputs": [
    {
     "name": "stdout",
     "output_type": "stream",
     "text": [
      "root\n",
      " |-- _id: struct (nullable = true)\n",
      " |    |-- oid: string (nullable = true)\n",
      " |-- city: string (nullable = true)\n",
      " |-- dock_count: integer (nullable = true)\n",
      " |-- id: integer (nullable = true)\n",
      " |-- installation_date: string (nullable = true)\n",
      " |-- lat: double (nullable = true)\n",
      " |-- long: double (nullable = true)\n",
      " |-- name: string (nullable = true)\n",
      "\n"
     ]
    }
   ],
   "source": []
  },
  {
   "cell_type": "code",
   "execution_count": 3,
   "metadata": {},
   "outputs": [
    {
     "name": "stdout",
     "output_type": "stream",
     "text": [
      "root\n",
      " |-- _id: struct (nullable = true)\n",
      " |    |-- oid: string (nullable = true)\n",
      " |-- bike_id: integer (nullable = true)\n",
      " |-- duration: integer (nullable = true)\n",
      " |-- end_date: string (nullable = true)\n",
      " |-- end_station_id: integer (nullable = true)\n",
      " |-- end_station_name: string (nullable = true)\n",
      " |-- id: integer (nullable = true)\n",
      " |-- start_date: string (nullable = true)\n",
      " |-- start_station_id: integer (nullable = true)\n",
      " |-- start_station_name: string (nullable = true)\n",
      " |-- subscription_type: string (nullable = true)\n",
      " |-- zip_code: string (nullable = true)\n",
      "\n"
     ]
    }
   ],
   "source": []
  },
  {
   "cell_type": "code",
   "execution_count": 6,
   "metadata": {},
   "outputs": [
    {
     "data": {
      "text/html": [
       "<div>\n",
       "<style>\n",
       "    .dataframe thead tr:only-child th {\n",
       "        text-align: right;\n",
       "    }\n",
       "\n",
       "    .dataframe thead th {\n",
       "        text-align: left;\n",
       "    }\n",
       "\n",
       "    .dataframe tbody tr th {\n",
       "        vertical-align: top;\n",
       "    }\n",
       "</style>\n",
       "<table border=\"1\" class=\"dataframe\">\n",
       "  <thead>\n",
       "    <tr style=\"text-align: right;\">\n",
       "      <th></th>\n",
       "      <th>_id</th>\n",
       "      <th>bike_id</th>\n",
       "      <th>duration</th>\n",
       "      <th>end_date</th>\n",
       "      <th>end_station_id</th>\n",
       "      <th>end_station_name</th>\n",
       "      <th>id</th>\n",
       "      <th>start_date</th>\n",
       "      <th>start_station_id</th>\n",
       "      <th>start_station_name</th>\n",
       "      <th>subscription_type</th>\n",
       "      <th>zip_code</th>\n",
       "    </tr>\n",
       "  </thead>\n",
       "  <tbody>\n",
       "    <tr>\n",
       "      <th>0</th>\n",
       "      <td>(5a5fdd105b417fe9768b076f,)</td>\n",
       "      <td>520</td>\n",
       "      <td>63</td>\n",
       "      <td>8/29/2013 14:14</td>\n",
       "      <td>66</td>\n",
       "      <td>South Van Ness at Market</td>\n",
       "      <td>4576</td>\n",
       "      <td>8/29/2013 14:13</td>\n",
       "      <td>66</td>\n",
       "      <td>South Van Ness at Market</td>\n",
       "      <td>Subscriber</td>\n",
       "      <td>94127</td>\n",
       "    </tr>\n",
       "    <tr>\n",
       "      <th>1</th>\n",
       "      <td>(5a5fdd105b417fe9768b0770,)</td>\n",
       "      <td>661</td>\n",
       "      <td>70</td>\n",
       "      <td>8/29/2013 14:43</td>\n",
       "      <td>10</td>\n",
       "      <td>San Jose City Hall</td>\n",
       "      <td>4607</td>\n",
       "      <td>8/29/2013 14:42</td>\n",
       "      <td>10</td>\n",
       "      <td>San Jose City Hall</td>\n",
       "      <td>Subscriber</td>\n",
       "      <td>95138</td>\n",
       "    </tr>\n",
       "    <tr>\n",
       "      <th>2</th>\n",
       "      <td>(5a5fdd105b417fe9768b0771,)</td>\n",
       "      <td>48</td>\n",
       "      <td>71</td>\n",
       "      <td>8/29/2013 10:17</td>\n",
       "      <td>27</td>\n",
       "      <td>Mountain View City Hall</td>\n",
       "      <td>4130</td>\n",
       "      <td>8/29/2013 10:16</td>\n",
       "      <td>27</td>\n",
       "      <td>Mountain View City Hall</td>\n",
       "      <td>Subscriber</td>\n",
       "      <td>97214</td>\n",
       "    </tr>\n",
       "    <tr>\n",
       "      <th>3</th>\n",
       "      <td>(5a5fdd105b417fe9768b0772,)</td>\n",
       "      <td>26</td>\n",
       "      <td>77</td>\n",
       "      <td>8/29/2013 11:30</td>\n",
       "      <td>10</td>\n",
       "      <td>San Jose City Hall</td>\n",
       "      <td>4251</td>\n",
       "      <td>8/29/2013 11:29</td>\n",
       "      <td>10</td>\n",
       "      <td>San Jose City Hall</td>\n",
       "      <td>Subscriber</td>\n",
       "      <td>95060</td>\n",
       "    </tr>\n",
       "    <tr>\n",
       "      <th>4</th>\n",
       "      <td>(5a5fdd105b417fe9768b0773,)</td>\n",
       "      <td>319</td>\n",
       "      <td>83</td>\n",
       "      <td>8/29/2013 12:04</td>\n",
       "      <td>67</td>\n",
       "      <td>Market at 10th</td>\n",
       "      <td>4299</td>\n",
       "      <td>8/29/2013 12:02</td>\n",
       "      <td>66</td>\n",
       "      <td>South Van Ness at Market</td>\n",
       "      <td>Subscriber</td>\n",
       "      <td>94103</td>\n",
       "    </tr>\n",
       "  </tbody>\n",
       "</table>\n",
       "</div>"
      ],
      "text/plain": [
       "                           _id  bike_id  duration         end_date  \\\n",
       "0  (5a5fdd105b417fe9768b076f,)      520        63  8/29/2013 14:14   \n",
       "1  (5a5fdd105b417fe9768b0770,)      661        70  8/29/2013 14:43   \n",
       "2  (5a5fdd105b417fe9768b0771,)       48        71  8/29/2013 10:17   \n",
       "3  (5a5fdd105b417fe9768b0772,)       26        77  8/29/2013 11:30   \n",
       "4  (5a5fdd105b417fe9768b0773,)      319        83  8/29/2013 12:04   \n",
       "\n",
       "   end_station_id          end_station_name    id       start_date  \\\n",
       "0              66  South Van Ness at Market  4576  8/29/2013 14:13   \n",
       "1              10        San Jose City Hall  4607  8/29/2013 14:42   \n",
       "2              27   Mountain View City Hall  4130  8/29/2013 10:16   \n",
       "3              10        San Jose City Hall  4251  8/29/2013 11:29   \n",
       "4              67            Market at 10th  4299  8/29/2013 12:02   \n",
       "\n",
       "   start_station_id        start_station_name subscription_type zip_code  \n",
       "0                66  South Van Ness at Market        Subscriber    94127  \n",
       "1                10        San Jose City Hall        Subscriber    95138  \n",
       "2                27   Mountain View City Hall        Subscriber    97214  \n",
       "3                10        San Jose City Hall        Subscriber    95060  \n",
       "4                66  South Van Ness at Market        Subscriber    94103  "
      ]
     },
     "execution_count": 6,
     "metadata": {},
     "output_type": "execute_result"
    }
   ],
   "source": [
    "pddf = trip_df.toPandas()\n",
    "pddf.head()"
   ]
  },
  {
   "cell_type": "code",
   "execution_count": 10,
   "metadata": {},
   "outputs": [
    {
     "data": {
      "text/html": [
       "<div>\n",
       "<style>\n",
       "    .dataframe thead tr:only-child th {\n",
       "        text-align: right;\n",
       "    }\n",
       "\n",
       "    .dataframe thead th {\n",
       "        text-align: left;\n",
       "    }\n",
       "\n",
       "    .dataframe tbody tr th {\n",
       "        vertical-align: top;\n",
       "    }\n",
       "</style>\n",
       "<table border=\"1\" class=\"dataframe\">\n",
       "  <thead>\n",
       "    <tr style=\"text-align: right;\">\n",
       "      <th></th>\n",
       "      <th>station_id</th>\n",
       "      <th>day_part</th>\n",
       "      <th>isWeekday</th>\n",
       "      <th>avg_bike_util</th>\n",
       "      <th>latitude</th>\n",
       "      <th>longitude</th>\n",
       "    </tr>\n",
       "  </thead>\n",
       "  <tbody>\n",
       "    <tr>\n",
       "      <th>0</th>\n",
       "      <td>2</td>\n",
       "      <td>morning</td>\n",
       "      <td>0</td>\n",
       "      <td>0.506256</td>\n",
       "      <td>37.329732</td>\n",
       "      <td>-121.901782</td>\n",
       "    </tr>\n",
       "    <tr>\n",
       "      <th>1</th>\n",
       "      <td>2</td>\n",
       "      <td>night</td>\n",
       "      <td>1</td>\n",
       "      <td>0.490139</td>\n",
       "      <td>37.329732</td>\n",
       "      <td>-121.901782</td>\n",
       "    </tr>\n",
       "    <tr>\n",
       "      <th>2</th>\n",
       "      <td>2</td>\n",
       "      <td>night</td>\n",
       "      <td>0</td>\n",
       "      <td>0.493489</td>\n",
       "      <td>37.329732</td>\n",
       "      <td>-121.901782</td>\n",
       "    </tr>\n",
       "    <tr>\n",
       "      <th>3</th>\n",
       "      <td>2</td>\n",
       "      <td>morning</td>\n",
       "      <td>1</td>\n",
       "      <td>0.538618</td>\n",
       "      <td>37.329732</td>\n",
       "      <td>-121.901782</td>\n",
       "    </tr>\n",
       "    <tr>\n",
       "      <th>4</th>\n",
       "      <td>3</td>\n",
       "      <td>night</td>\n",
       "      <td>1</td>\n",
       "      <td>0.469434</td>\n",
       "      <td>37.330698</td>\n",
       "      <td>-121.888979</td>\n",
       "    </tr>\n",
       "  </tbody>\n",
       "</table>\n",
       "</div>"
      ],
      "text/plain": [
       "   station_id day_part  isWeekday  avg_bike_util   latitude   longitude\n",
       "0           2  morning          0       0.506256  37.329732 -121.901782\n",
       "1           2    night          1       0.490139  37.329732 -121.901782\n",
       "2           2    night          0       0.493489  37.329732 -121.901782\n",
       "3           2  morning          1       0.538618  37.329732 -121.901782\n",
       "4           3    night          1       0.469434  37.330698 -121.888979"
      ]
     },
     "execution_count": 10,
     "metadata": {},
     "output_type": "execute_result"
    }
   ],
   "source": [
    "import pandas as pd\n",
    "df = pd.read_csv('Data/daily_avg.csv')\n",
    "df.head()"
   ]
  }
 ],
 "metadata": {
  "kernelspec": {
   "display_name": "Python 2",
   "language": "python",
   "name": "python2"
  },
  "language_info": {
   "codemirror_mode": {
    "name": "ipython",
    "version": 2
   },
   "file_extension": ".py",
   "mimetype": "text/x-python",
   "name": "python",
   "nbconvert_exporter": "python",
   "pygments_lexer": "ipython2",
   "version": "2.7.14"
  }
 },
 "nbformat": 4,
 "nbformat_minor": 2
}
